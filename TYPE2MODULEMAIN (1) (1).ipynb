{
 "cells": [
  {
   "cell_type": "code",
   "execution_count": 1,
   "metadata": {},
   "outputs": [],
   "source": [
    "import numpy as np\n",
    "import skfuzzy as fuzz\n",
    "import matplotlib.pyplot as plt\n",
    "import itertools as it"
   ]
  },
  {
   "cell_type": "code",
   "execution_count": 2,
   "metadata": {},
   "outputs": [],
   "source": [
    "# Triangular Lower Member function for membership value less than 1(h)\n",
    "# USED IN \"lmf\" FUNCTION BELOW\n",
    "# trilmf(1-D array if the total range, 1-D array of lenght 4 containing [lower, peak , upper, height])\n",
    "\n",
    "# for example\n",
    "#  trimlmf(x_temp, [0,20,40, 0.8])\n",
    "#  x_temp: np.arange(0,101,0.1)\n",
    "\n",
    "def trilmf(x, abch):\n",
    "    assert len(abch) == 4 \n",
    "    a, b, c, h = np.r_[abch]     \n",
    "    assert a <= b and b <= c\n",
    "\n",
    "    y = np.zeros(len(x))\n",
    "\n",
    "    # Left side\n",
    "    if a != b:\n",
    "        idx = np.nonzero(np.logical_and(a < x, x < b))[0]\n",
    "        y[idx] = (x[idx] - a) / float(b - a) * h\n",
    "\n",
    "    # Right side\n",
    "    if b != c:\n",
    "        idx = np.nonzero(np.logical_and(b < x, x < c))[0]\n",
    "        y[idx] = (c - x[idx]) / float(c - b) * h\n",
    "\n",
    "    idx = np.nonzero(x == b)\n",
    "    y[idx] = h\n",
    "    return y"
   ]
  },
  {
   "cell_type": "code",
   "execution_count": 3,
   "metadata": {},
   "outputs": [],
   "source": [
    "# Upper Triangular Membership Function \n",
    "# umf(1-d array of range, name of the linguistic variable)\n",
    "# example\n",
    "# umf(x_temp, 'Temperature')\n",
    "# x_temp = np.arange(0, 40, 0.1)\n",
    "\n",
    "def umf(x_var, ling_var):\n",
    "        \n",
    "       \n",
    "        variants_name_list = input(\"Enter the types of variants of\" + \" : \" + ling_var).split(' ')\n",
    "\n",
    "        var_variant_umf = []\n",
    "\n",
    "        print(\"\\n1:triangular membership func\\n2:trapaziod membership function\")\n",
    "\n",
    "        for i in range(len(variants_name_list)):\n",
    "            m = int(input(f\"\\nEnter the no. corresponding to the type of membership function for UPPER MEMBERSHIP given in above menu for {variants_name_list[i]}: \" ))\n",
    "            print(f\"Enter the numbers for {variants_name_list[i]} :\" + ling_var)\n",
    "            varType = [int(x) for x in input().split(' ')]\n",
    "            if m == 1:\n",
    "                var_variant_umf.append(fuzz.trimf(x_var, varType))\n",
    "            elif m == 2:\n",
    "                var_variant_umf.append(fuzz.trapmf(x_var, varType))\n",
    "           \n",
    "        return var_variant_umf, variants_name_list\n",
    "\n",
    "    "
   ]
  },
  {
   "cell_type": "code",
   "execution_count": 4,
   "metadata": {},
   "outputs": [],
   "source": [
    "# Lower Membership Function \n",
    "# lmf(1-d array of range, list of type of variables, name of the linguistic variable)\n",
    "#example\n",
    "# lmf(x_temp, ['low','med','high'], 'Temperature')\n",
    "# output : var_variant_lmf = [array[<membership values for cold>], array[<membership values for warm>], array[...],...]\n",
    "# array([1.    , 0.9998, 0.9996, ..., 0.    , 0.    , 0.    ]), array([0.    , 0.0002, 0.0004, ..., 0.    , 0.    , 0.    ]), array([0., 0., 0., ..., 0., 0., 0.])]\n",
    "\n",
    "def lmf(x_var, variants_name_list, ling_var):\n",
    "        \n",
    "       \n",
    "       \n",
    "        var_variant_lmf = []\n",
    "\n",
    "        print(\"\\n1:triangular membership func\\n2:trapaziod membership function\")\n",
    "\n",
    "        for i in range(len(variants_name_list)):\n",
    "            m = int(input(f\"\\nEnter the no. corresponding to the type of membership function for LOWER MEMBERSHIP given in above menu for {variants_name_list[i]}: \" ))\n",
    "            print(f\"Enter the numbers for {variants_name_list[i]} :\" + ling_var)\n",
    "            varType = [float(x) for x in input().split(' ')]\n",
    "            if m == 1:\n",
    "                var_variant_lmf.append(trilmf(x_var, varType))\n",
    "            elif m == 2:\n",
    "                var_variant_lmf.append(fuzz.trapmf(x_var, varType))\n",
    "                \n",
    "        return var_variant_lmf\n"
   ]
  },
  {
   "cell_type": "code",
   "execution_count": 5,
   "metadata": {},
   "outputs": [],
   "source": [
    "# Plotting of membership functions\n",
    "# example\n",
    "# plotting_mf(x_temp, var_variant_lmf,var_variant_umf, ling_var)\n",
    "# var_variant_lmf and var_variant_umf are of same type\n",
    "\n",
    "\n",
    "def plotting_mf(x_var, var_variant_lmf,var_variant_umf, ling_var):\n",
    "                \n",
    "    \n",
    "           \n",
    "    fig, (ax0) = plt.subplots(figsize=(6, 3))\n",
    "    ax0.set_title(ling_var)\n",
    "    #ax0.legend()\n",
    "\n",
    "    colours = ['r','g', 'y', 'm']\n",
    "    for i in range(len(var_variant_umf)):\n",
    "            \n",
    "        ax0.plot(x_var, var_variant_lmf[i], colours[i] , linewidth = 1.5)\n",
    "        ax0.plot(x_var, var_variant_umf[i], colours[i] , linewidth = 1.5)\n"
   ]
  },
  {
   "cell_type": "code",
   "execution_count": 6,
   "metadata": {},
   "outputs": [],
   "source": [
    "# FUZZIFICATION\n",
    "\n",
    "# input : \n",
    "# x_var = np.arange(0, 40, 0.1)\n",
    "# var_variant_umf, var_variant_lmf : mentioned above\n",
    "# 'z': taken from user\n",
    "\n",
    "# output:\n",
    "# interp_lst_umf : [<umf of cold at 'z'>, <umf of cold at 'z'> , ....]\n",
    "# interp_lst_lmf : [<lmf of cold at 'z'>, <lmf of medium at 'z'> , ... ]=[0.0 , 0.5, 0.744]\n",
    "\n",
    "def interp(x_var,var_variant_umf, var_variant_lmf, ling_var):\n",
    "    z = int(input(\"Enter the value of \" + ling_var + \" to be determined\"))\n",
    "    \n",
    "    \n",
    "    interp_lst_umf = []\n",
    "    interp_lst_lmf = []\n",
    "    \n",
    "    for i in range(len(var_variant_umf)):\n",
    "        x = fuzz.interp_membership(x_var, var_variant_umf[i], z)\n",
    "        interp_lst_umf.append(x)\n",
    "    \n",
    "    \n",
    "    \n",
    "    \n",
    "    for j in range(len(var_variant_lmf)):\n",
    "        y = fuzz.interp_membership(x_var, var_variant_lmf[j], z)\n",
    "        interp_lst_lmf.append(y)\n",
    "    \n",
    "    \n",
    "    \n",
    "    return interp_lst_umf,interp_lst_lmf"
   ]
  },
  {
   "cell_type": "code",
   "execution_count": 7,
   "metadata": {},
   "outputs": [],
   "source": [
    "# RULE CONCEPTION\n",
    "# Input : \n",
    "# temp_name_list = ['low', 'med', high]\n",
    "# hum_name_list = ['low', 'med', high]\n",
    "# fanspeed_name_list = ['low', 'med', high]\n",
    "\n",
    "\n",
    "# output: \n",
    "# l =[1, 2, 3, 2, 2, 3, 3, 2, 3], where 1 :slow, 2: normal, 3: fast, -- > fanspeed\n",
    "\n",
    "def user_rules(temp_name_list, hum_name_list, fanspeed_name_list):\n",
    "    \n",
    "    \n",
    "    output_combination = [[a, b] for a in temp_name_list \n",
    "          for b in hum_name_list] \n",
    "    \n",
    "    \n",
    "    for i in range(len(fanspeed_name_list)):\n",
    "        \n",
    "        print(\"Enter \" + str(i+1) + \" for \" + fanspeed_name_list[i])\n",
    "        \n",
    "        \n",
    "        l = []\n",
    "    \n",
    "    for i in range(len(output_combination)):\n",
    "          for j in range(2):\n",
    "                if(j==0):\n",
    "                    print(\"Enter the rule for \" + output_combination[i][j] + \" and \" + output_combination[i][j+1])\n",
    "                    c = int(input(\"Enter the corresponding value\"))\n",
    "                    l.append(c)\n",
    "\n",
    "    \n",
    "        \n",
    "    \n",
    "    return l\n",
    "    \n",
    "    "
   ]
  },
  {
   "cell_type": "code",
   "execution_count": 8,
   "metadata": {},
   "outputs": [],
   "source": [
    "# input \n",
    "#  temp_interp_umf = [<umf of cold at 'z'>, <umf of cold at 'z'> , ....]    likewise(hum_interp_umf)\n",
    "#  fan_variant_umf : [array[<membership values for slow>], array[<membership values for normal>], array[...],...]\n",
    "#  l =[1, 2, 3, 2, 2, 3, 3, 2, 3], where 1 :slow, 2: normal, 3: fast, -- > fanspeed\n",
    "\n",
    "# output \n",
    "# rules_umf : membership values after applying the rules  : list of output umf : [array[output membership for rule cold and low], array[output membership for rule cold and med], array[]...]\n",
    "# useful_list = fanspeed [[output membership for rule cold and low],[output membership for rule cold and med ],...] : needed for plotting\n",
    "\n",
    "def uppermf_rules(temp_interp_umf, hum_interp_umf, fanspeed_variant_umf, l):\n",
    "    \n",
    "    \n",
    "    min_value_list_umf =  [[c, d] for c in temp_interp_umf  \n",
    "          for d in hum_interp_umf ] \n",
    "    \n",
    "      #prints the variants of the output variable , here Fanspeed\n",
    "    \n",
    "   \n",
    "  \n",
    "    \n",
    "    \n",
    "    grading_list_umf = {}\n",
    "\n",
    "    \n",
    "    \n",
    "        \n",
    "    grading_list_umf = {}\n",
    "    keys = range(len(fanspeed_variant_umf))\n",
    "    for i in keys:\n",
    "        grading_list_umf[i+1] = fanspeed_variant_umf[i]\n",
    "     \n",
    "        \n",
    "    useful_list_umf = []\n",
    "        \n",
    "    for i in range(len(l)):\n",
    "        temp = [l[i], grading_list_umf[l[i]]]\n",
    "        useful_list_umf.append(temp)\n",
    "\n",
    "      \n",
    "    rules_umf = []\n",
    "    \n",
    "    \n",
    "    for i in range(len(min_value_list_umf)):\n",
    "        for j in range(2):\n",
    "            if(j==0):\n",
    "                \n",
    "                z = np.fmin(min_value_list_umf[i][j],min_value_list_umf[i][j+1])\n",
    "                rule = np.fmin(z, useful_list_umf[i][1])\n",
    "                rules_umf.append(rule)\n",
    "                \n",
    "\n",
    "                \n",
    "    return rules_umf, useful_list_umf\n",
    "                \n",
    "    \n",
    "    \n",
    "                \n",
    "            "
   ]
  },
  {
   "cell_type": "code",
   "execution_count": 9,
   "metadata": {},
   "outputs": [],
   "source": [
    "# similar to 'uppermf_rules'\n",
    "\n",
    "def lowermf_rules( l, fanspeed_name_list , temp_interp_lmf, hum_interp_lmf, fanspeed_variant_lmf):\n",
    "    \n",
    "    \n",
    "    min_value_list_lmf =  [[c, d] for c in temp_interp_lmf  \n",
    "          for d in hum_interp_lmf ] \n",
    "    \n",
    "  \n",
    "    grading_list_lmf = {}\n",
    "    keys = range(len(fanspeed_variant_lmf))\n",
    "    for i in keys:\n",
    "        grading_list_lmf[i+1] = fanspeed_variant_lmf[i]\n",
    "     \n",
    "        \n",
    "    useful_list_lmf = []\n",
    "        \n",
    "    for i in range(len(l)):\n",
    "        temp = [l[i], grading_list_lmf[l[i]]]\n",
    "        useful_list_lmf.append(temp)\n",
    "\n",
    "      \n",
    "    rules_lmf = []\n",
    "    \n",
    "    \n",
    "    for i in range(len(min_value_list_lmf)):\n",
    "        for j in range(2):\n",
    "            if(j==0):\n",
    "                \n",
    "                z = np.fmin(min_value_list_lmf[i][j],min_value_list_lmf[i][j+1])\n",
    "                rule = np.fmin(z, useful_list_lmf[i][1])\n",
    "                \n",
    "                rules_lmf.append(rule)\n",
    "                \n",
    "\n",
    "                \n",
    "    return rules_lmf, useful_list_lmf\n",
    "                \n",
    "    \n"
   ]
  },
  {
   "cell_type": "code",
   "execution_count": 46,
   "metadata": {},
   "outputs": [],
   "source": [
    "# input\n",
    "# output_var : range of the fanspeed\n",
    "# rules_umf, rules_lmf : mentioned above\n",
    "# useful_list_umf, useful_list_lmf : mentioned above\n",
    "\n",
    "\n",
    "# To plot output membership (modification needed):\n",
    "#  lmf, umf overlapping\n",
    "def output_plot(output_var, rules_umf, rules_lmf, useful_list_umf,useful_list_lmf):\n",
    "    \n",
    "    fanspeed0 = np.zeros_like(x_fanspeed)\n",
    "    \n",
    "    fig, (ax0) = plt.subplots(figsize=(10, 4))\n",
    "    \n",
    "    colours = ['r', 'g','y', 'm', 'c','b','r', 'g','y', 'm', 'c','b']\n",
    "\n",
    "    \n",
    "    for i in range(len(rules_umf)):\n",
    "        \n",
    "        ax0.fill_between(output_var, fanspeed0, rules_umf[i], facecolor = colours[i], alpha=0.7)\n",
    "        ax0.plot(output_var, useful_list_umf[i][1], 'k', linewidth=0.5, linestyle='--', )\n",
    "        ax0.fill_between(output_var, fanspeed0, rules_lmf[i], facecolor = colours[i], alpha=0.7)\n",
    "        ax0.plot(output_var, useful_list_lmf[i][1], 'k', linewidth=0.5, linestyle='--', )\n",
    "       \n",
    "        \n",
    "    ax0.set_title('Output membership activity')\n"
   ]
  },
  {
   "cell_type": "code",
   "execution_count": null,
   "metadata": {},
   "outputs": [],
   "source": []
  },
  {
   "cell_type": "code",
   "execution_count": 1,
   "metadata": {},
   "outputs": [],
   "source": [
    "# aggregation of Upper membership rules and lower membership rules \n",
    "\n",
    "# input\n",
    "# rules_umf, rules_lmf : mentioned above\n",
    "\n",
    "# output\n",
    "# max_rule_list_lmf, max_rule_list_umf : an array that stores element wise maximum values of the rules , respectively.\n",
    "# max_rule_list : an array that stores the aggreagation of max_rule_list_lmf and max_rule_list_umf\n",
    "\n",
    "\n",
    "\n",
    "\n",
    "def aggregated_rules(rules_umf, rules_lmf):\n",
    "    \n",
    "    max_rule_list_umf = []\n",
    "    for j in range(len(rules_umf[0])):\n",
    "        max_rule_umf = 0\n",
    "        for i in range(len(rules_umf)):\n",
    "            if(rules_umf[i][j]>max_rule_umf):\n",
    "                max_rule_umf = rules_umf[i][j]\n",
    "        max_rule_list_umf.append(max_rule_umf)\n",
    "    max_rule_list_umf = np.asarray(max_rule_list_umf)\n",
    "        \n",
    "        \n",
    "    \n",
    "    \n",
    "    max_rule_list_lmf = []\n",
    "    for k in range(len(rule_lmf[0])):\n",
    "        max_rule_lmf = 0\n",
    "        for l in range(len(rules_lmf)):\n",
    "            if(rules_lmf[l][k]>max_rule_lmf):\n",
    "                max_rule_lmf = rules_lmf[l][k]\n",
    "        max_rule_list_lmf.append(max_rule_lmf)\n",
    "    max_rule_list_lmf = np.asarray(max_rule_list_lmf)\n",
    "\n",
    "    \n",
    "    max_rule_list = (max_rule_list_umf - max_rule_list_lmf)\n",
    "    \n",
    "    \n",
    "    return max_rule_list, max_rule_list_lmf, max_rule_list_umf"
   ]
  },
  {
   "cell_type": "code",
   "execution_count": 57,
   "metadata": {},
   "outputs": [],
   "source": [
    "# Defuzzification function converts the fuzzy values to crisp values through determination of centroid\n",
    "\n",
    "# input\n",
    "# x_fanspeed : range of the output variable (syntax mentioned above)\n",
    "# max_rule_list  : mentioned above\n",
    "\n",
    "# output \n",
    "# defuz : gives the centroid of the aggregated region \n",
    "# example : \n",
    "# defuz = fuzz.defuzz(x_fanspeed, max_rule_list, 'centroid')\n",
    "# where x_fanspeed is the range of output\n",
    "# max_rule_list is aggregation of lower membership values and upper membership values\n",
    "# 'centroid'  will determine the centroid of the aggregated region\n",
    "    \n",
    "\n",
    "\n",
    "def  defuzzification(x_fanspeed, max_rule_list ):\n",
    "    defuz = fuzz.defuzz(x_fanspeed, max_rule_list, 'centroid')\n",
    "    \n",
    "    return defuz\n"
   ]
  },
  {
   "cell_type": "code",
   "execution_count": 2,
   "metadata": {},
   "outputs": [],
   "source": [
    "# Plots the centroid\n",
    "\n",
    "# input \n",
    "# output_var : mentioned above\n",
    "# defuz : mentioned above\n",
    "# max_rule_list : mentioned above\n",
    "# var_variant_lmf : mentioned above\n",
    "# var_variant_umf : mentioned above\n",
    "# max_rule_list_umf : mentioned above\n",
    "# max_rule_list_lmf : mentioned above\n",
    "\n",
    "\n",
    "def centroid_plot(output_var, defuz, max_rule_list, var_variant_lmf, var_variant_umf, max_rule_list_umf, max_rule_list_lmf):\n",
    "    \n",
    "    output_activation = fuzz.interp_membership(output_var, max_rule_list, defuz)  # for plot\n",
    "    \n",
    "    fig, ax0 = plt.subplots(figsize=(8, 3))\n",
    "    \n",
    "    for i in range(len(var_variant_umf)):\n",
    "        \n",
    "        ax0.plot(output_var, var_variant_umf[i], 'b', linewidth=0.5, linestyle='--', )\n",
    "        ax0.plot(output_var, var_variant_lmf[i], 'g', linewidth=0.5, linestyle='--', )\n",
    "        \n",
    "        ax0.fill_between(output_var, max_rule_list_umf, max_rule_list_lmf, facecolor='Orange', alpha=0.7)\n",
    "        ax0.plot([defuz, defuz], [0, output_activation], 'k', linewidth=1.5, alpha=0.9)\n",
    "        \n",
    "        \n",
    "    ax0.set_title('Aggregated membership and result (line)')\n",
    "\n",
    "   "
   ]
  },
  {
   "cell_type": "markdown",
   "metadata": {},
   "source": [
    "# MAIN FUNCTION"
   ]
  },
  {
   "cell_type": "code",
   "execution_count": 17,
   "metadata": {},
   "outputs": [
    {
     "name": "stdout",
     "output_type": "stream",
     "text": [
      "Enter the Linguistic Variable for inputTEMPERATURE\n",
      "Enter the upper, lower and increment for the Variable:0 101 0.01\n",
      "Enter the Linguistic Variable for inputHUMIDITY\n",
      "Enter the upper, lower and increment for the Variable:0 51 0.005\n",
      "Enter the Linguistic Variable for outputFANSPEED\n",
      "Enter the upper, lower and increment for the Variable:0 11 0.001\n"
     ]
    }
   ],
   "source": [
    "\n",
    "ling_var1 = input(\"Enter the Linguistic Variable for input\")\n",
    "x,y,z = [float(x) for x in input(\"Enter the upper, lower and increment for the Variable:\").split(' ')]\n",
    "x_temp = np.arange(x, y, z)\n",
    "\n",
    "\n",
    "ling_var2 = input(\"Enter the Linguistic Variable for input\")\n",
    "x,y,z = [float(x) for x in input(\"Enter the upper, lower and increment for the Variable:\").split(' ')]\n",
    "x_hum = np.arange(x, y, z)\n",
    "\n",
    "\n",
    "ling_var3 = input(\"Enter the Linguistic Variable for output\")\n",
    "x,y,z = [float(x) for x in input(\"Enter the upper, lower and increment for the Variable:\").split(' ')]\n",
    "x_fanspeed = np.arange(x, y, z)\n"
   ]
  },
  {
   "cell_type": "code",
   "execution_count": null,
   "metadata": {},
   "outputs": [],
   "source": []
  },
  {
   "cell_type": "code",
   "execution_count": 18,
   "metadata": {},
   "outputs": [
    {
     "name": "stdout",
     "output_type": "stream",
     "text": [
      "Enter the types of variants of : TEMPERATURECOLD WARM HOT\n",
      "\n",
      "1:triangular membership func\n",
      "2:trapaziod membership function\n",
      "\n",
      "Enter the no. corresponding to the type of membership function for UPPER MEMBERSHIP given in above menu for COLD: 1\n",
      "Enter the numbers for COLD :TEMPERATURE\n",
      "0 0 50\n",
      "\n",
      "Enter the no. corresponding to the type of membership function for UPPER MEMBERSHIP given in above menu for WARM: 1\n",
      "Enter the numbers for WARM :TEMPERATURE\n",
      "20 50 70\n",
      "\n",
      "Enter the no. corresponding to the type of membership function for UPPER MEMBERSHIP given in above menu for HOT: 1\n",
      "Enter the numbers for HOT :TEMPERATURE\n",
      "50 100 100\n",
      "\n",
      "1:triangular membership func\n",
      "2:trapaziod membership function\n",
      "\n",
      "Enter the no. corresponding to the type of membership function for LOWER MEMBERSHIP given in above menu for COLD: 1\n",
      "Enter the numbers for COLD :TEMPERATURE\n",
      "0 0 47 0.8\n",
      "\n",
      "Enter the no. corresponding to the type of membership function for LOWER MEMBERSHIP given in above menu for WARM: 1\n",
      "Enter the numbers for WARM :TEMPERATURE\n",
      "23 50 67 0.8\n",
      "\n",
      "Enter the no. corresponding to the type of membership function for LOWER MEMBERSHIP given in above menu for HOT: 1\n",
      "Enter the numbers for HOT :TEMPERATURE\n",
      "53 100 100 0.8\n"
     ]
    }
   ],
   "source": [
    "temp_variant_umf, temp_name_list = umf(x_temp, ling_var1)\n",
    "temp_variant_lmf = lmf(x_temp, temp_name_list, ling_var1)\n",
    "\n",
    "\n"
   ]
  },
  {
   "cell_type": "code",
   "execution_count": 22,
   "metadata": {},
   "outputs": [
    {
     "name": "stdout",
     "output_type": "stream",
     "text": [
      "Enter the types of variants of : HUMIDITYLOW MEDIUM HIGH\n",
      "\n",
      "1:triangular membership func\n",
      "2:trapaziod membership function\n",
      "\n",
      "Enter the no. corresponding to the type of membership function for UPPER MEMBERSHIP given in above menu for LOW: 1\n",
      "Enter the numbers for LOW :HUMIDITY\n",
      "0 0 25\n",
      "\n",
      "Enter the no. corresponding to the type of membership function for UPPER MEMBERSHIP given in above menu for MEDIUM: 1\n",
      "Enter the numbers for MEDIUM :HUMIDITY\n",
      "15 25 35\n",
      "\n",
      "Enter the no. corresponding to the type of membership function for UPPER MEMBERSHIP given in above menu for HIGH: 1\n",
      "Enter the numbers for HIGH :HUMIDITY\n",
      "25 50 50\n",
      "\n",
      "1:triangular membership func\n",
      "2:trapaziod membership function\n",
      "\n",
      "Enter the no. corresponding to the type of membership function for LOWER MEMBERSHIP given in above menu for LOW: 1\n",
      "Enter the numbers for LOW :HUMIDITY\n",
      "0 0 22 0.8\n",
      "\n",
      "Enter the no. corresponding to the type of membership function for LOWER MEMBERSHIP given in above menu for MEDIUM: 1\n",
      "Enter the numbers for MEDIUM :HUMIDITY\n",
      "18 25 32 0.8\n",
      "\n",
      "Enter the no. corresponding to the type of membership function for LOWER MEMBERSHIP given in above menu for HIGH: 1\n",
      "Enter the numbers for HIGH :HUMIDITY\n",
      "28 50 50 0.8\n"
     ]
    }
   ],
   "source": [
    "hum_variant_umf, hum_name_list = umf(x_hum, ling_var2)\n",
    "hum_variant_lmf = lmf(x_hum, hum_name_list, ling_var2)"
   ]
  },
  {
   "cell_type": "code",
   "execution_count": 25,
   "metadata": {},
   "outputs": [
    {
     "name": "stdout",
     "output_type": "stream",
     "text": [
      "Enter the types of variants of : FANSPEEDSLOW NORMAL FAST\n",
      "\n",
      "1:triangular membership func\n",
      "2:trapaziod membership function\n",
      "\n",
      "Enter the no. corresponding to the type of membership function for UPPER MEMBERSHIP given in above menu for SLOW: 1\n",
      "Enter the numbers for SLOW :FANSPEED\n",
      "0 0 5\n",
      "\n",
      "Enter the no. corresponding to the type of membership function for UPPER MEMBERSHIP given in above menu for NORMAL: 1\n",
      "Enter the numbers for NORMAL :FANSPEED\n",
      "0 5 10\n",
      "\n",
      "Enter the no. corresponding to the type of membership function for UPPER MEMBERSHIP given in above menu for FAST: 1\n",
      "Enter the numbers for FAST :FANSPEED\n",
      "5 10 10\n",
      "\n",
      "1:triangular membership func\n",
      "2:trapaziod membership function\n",
      "\n",
      "Enter the no. corresponding to the type of membership function for LOWER MEMBERSHIP given in above menu for SLOW: 1\n",
      "Enter the numbers for SLOW :FANSPEED\n",
      "0 0 4 0.8\n",
      "\n",
      "Enter the no. corresponding to the type of membership function for LOWER MEMBERSHIP given in above menu for NORMAL: 1\n",
      "Enter the numbers for NORMAL :FANSPEED\n",
      "1 5 9 0.8\n",
      "\n",
      "Enter the no. corresponding to the type of membership function for LOWER MEMBERSHIP given in above menu for FAST: 1\n",
      "Enter the numbers for FAST :FANSPEED\n",
      "6 10 10 0.8\n"
     ]
    }
   ],
   "source": [
    "fanspeed_variant_umf, fanspeed_name_list = umf(x_fanspeed, ling_var3)\n",
    "fanspeed_variant_lmf = lmf(x_fanspeed, fanspeed_name_list, ling_var3)"
   ]
  },
  {
   "cell_type": "code",
   "execution_count": 26,
   "metadata": {},
   "outputs": [
    {
     "name": "stdout",
     "output_type": "stream",
     "text": [
      "[array([1.    , 0.9998, 0.9996, ..., 0.    , 0.    , 0.    ]), array([0.    , 0.0002, 0.0004, ..., 0.    , 0.    , 0.    ]), array([0., 0., 0., ..., 0., 0., 0.])]\n"
     ]
    }
   ],
   "source": [
    "print(fanspeed_variant_umf)"
   ]
  },
  {
   "cell_type": "code",
   "execution_count": 27,
   "metadata": {},
   "outputs": [
    {
     "data": {
      "image/png": "[encoded data removed]",
      "text/plain": [
       "<Figure size 432x216 with 1 Axes>"
      ]
     },
     "metadata": {
      "needs_background": "light"
     },
     "output_type": "display_data"
    }
   ],
   "source": [
    "# ling_var1 = input(\"Enter the Variable\")\n",
    "plotting_mf(x_temp, temp_variant_lmf,temp_variant_umf, ling_var1)\n",
    " "
   ]
  },
  {
   "cell_type": "code",
   "execution_count": 28,
   "metadata": {},
   "outputs": [
    {
     "data": {
      "image/png": "[encoded data removed]",
      "text/plain": [
       "<Figure size 432x216 with 1 Axes>"
      ]
     },
     "metadata": {
      "needs_background": "light"
     },
     "output_type": "display_data"
    }
   ],
   "source": [
    "# ling_var2 = input(\"Enter the Variable\")\n",
    "plotting_mf(x_hum, hum_variant_lmf,hum_variant_umf, ling_var2)\n",
    "    \n",
    "    "
   ]
  },
  {
   "cell_type": "code",
   "execution_count": 29,
   "metadata": {},
   "outputs": [
    {
     "data": {
      "image/png": "[encoded data removed]",
      "text/plain": [
       "<Figure size 432x216 with 1 Axes>"
      ]
     },
     "metadata": {
      "needs_background": "light"
     },
     "output_type": "display_data"
    }
   ],
   "source": [
    "# ling_var3 = input(\"Enter the Variable\")\n",
    "plotting_mf(x_fanspeed, fanspeed_variant_lmf, fanspeed_variant_umf, ling_var3)\n",
    "   "
   ]
  },
  {
   "cell_type": "code",
   "execution_count": 30,
   "metadata": {},
   "outputs": [
    {
     "name": "stdout",
     "output_type": "stream",
     "text": [
      "Enter 1 for SLOW\n",
      "Enter 2 for NORMAL\n",
      "Enter 3 for FAST\n",
      "Enter the rule for COLD and LOW\n",
      "Enter the corresponding value1\n",
      "Enter the rule for COLD and MEDIUM\n",
      "Enter the corresponding value2\n",
      "Enter the rule for COLD and HIGH\n",
      "Enter the corresponding value3\n",
      "Enter the rule for WARM and LOW\n",
      "Enter the corresponding value2\n",
      "Enter the rule for WARM and MEDIUM\n",
      "Enter the corresponding value2\n",
      "Enter the rule for WARM and HIGH\n",
      "Enter the corresponding value3\n",
      "Enter the rule for HOT and LOW\n",
      "Enter the corresponding value3\n",
      "Enter the rule for HOT and MEDIUM\n",
      "Enter the corresponding value2\n",
      "Enter the rule for HOT and HIGH\n",
      "Enter the corresponding value3\n"
     ]
    }
   ],
   "source": [
    "l = user_rules(temp_name_list, hum_name_list, fanspeed_name_list)"
   ]
  },
  {
   "cell_type": "code",
   "execution_count": 31,
   "metadata": {},
   "outputs": [
    {
     "name": "stdout",
     "output_type": "stream",
     "text": [
      "[1, 2, 3, 2, 2, 3, 3, 2, 3]\n"
     ]
    }
   ],
   "source": [
    "print(l)"
   ]
  },
  {
   "cell_type": "code",
   "execution_count": 80,
   "metadata": {},
   "outputs": [
    {
     "name": "stdout",
     "output_type": "stream",
     "text": [
      "Enter the value of TEMPERATURE to be determined33\n"
     ]
    }
   ],
   "source": [
    "temp_interp_umf,temp_interp_lmf = interp(x_temp,temp_variant_umf,temp_variant_lmf,ling_var1)\n"
   ]
  },
  {
   "cell_type": "code",
   "execution_count": 81,
   "metadata": {},
   "outputs": [
    {
     "name": "stdout",
     "output_type": "stream",
     "text": [
      "[0.34, 0.43333333333333335, 0.0] [0.23829787234042554, 0.2962962962962963, 0.0]\n"
     ]
    }
   ],
   "source": [
    "print(temp_interp_umf,temp_interp_lmf)"
   ]
  },
  {
   "cell_type": "code",
   "execution_count": 82,
   "metadata": {},
   "outputs": [
    {
     "name": "stdout",
     "output_type": "stream",
     "text": [
      "Enter the value of HUMIDITY to be determined34\n"
     ]
    }
   ],
   "source": [
    "hum_interp_umf,hum_interp_lmf = interp(x_hum,hum_variant_umf, hum_variant_lmf, ling_var2)\n",
    "\n"
   ]
  },
  {
   "cell_type": "code",
   "execution_count": 83,
   "metadata": {},
   "outputs": [
    {
     "name": "stdout",
     "output_type": "stream",
     "text": [
      "[0.0, 0.1, 0.36] [0.0, 0.0, 0.21818181818181817]\n"
     ]
    }
   ],
   "source": [
    "print(hum_interp_umf,hum_interp_lmf)"
   ]
  },
  {
   "cell_type": "code",
   "execution_count": 84,
   "metadata": {},
   "outputs": [],
   "source": [
    "rule_umf, useful_list_umf = uppermf_rules(temp_interp_umf, hum_interp_umf, fanspeed_variant_umf, l)"
   ]
  },
  {
   "cell_type": "code",
   "execution_count": 85,
   "metadata": {},
   "outputs": [
    {
     "data": {
      "text/plain": [
       "[array([0., 0., 0., ..., 0., 0., 0.]),\n",
       " array([0.    , 0.0002, 0.0004, ..., 0.    , 0.    , 0.    ]),\n",
       " array([0., 0., 0., ..., 0., 0., 0.]),\n",
       " array([0., 0., 0., ..., 0., 0., 0.]),\n",
       " array([0.    , 0.0002, 0.0004, ..., 0.    , 0.    , 0.    ]),\n",
       " array([0., 0., 0., ..., 0., 0., 0.]),\n",
       " array([0., 0., 0., ..., 0., 0., 0.]),\n",
       " array([0., 0., 0., ..., 0., 0., 0.]),\n",
       " array([0., 0., 0., ..., 0., 0., 0.])]"
      ]
     },
     "execution_count": 85,
     "metadata": {},
     "output_type": "execute_result"
    }
   ],
   "source": [
    "rule_umf"
   ]
  },
  {
   "cell_type": "code",
   "execution_count": 86,
   "metadata": {},
   "outputs": [
    {
     "data": {
      "text/plain": [
       "[[1, array([1.    , 0.9998, 0.9996, ..., 0.    , 0.    , 0.    ])],\n",
       " [2, array([0.    , 0.0002, 0.0004, ..., 0.    , 0.    , 0.    ])],\n",
       " [3, array([0., 0., 0., ..., 0., 0., 0.])],\n",
       " [2, array([0.    , 0.0002, 0.0004, ..., 0.    , 0.    , 0.    ])],\n",
       " [2, array([0.    , 0.0002, 0.0004, ..., 0.    , 0.    , 0.    ])],\n",
       " [3, array([0., 0., 0., ..., 0., 0., 0.])],\n",
       " [3, array([0., 0., 0., ..., 0., 0., 0.])],\n",
       " [2, array([0.    , 0.0002, 0.0004, ..., 0.    , 0.    , 0.    ])],\n",
       " [3, array([0., 0., 0., ..., 0., 0., 0.])]]"
      ]
     },
     "execution_count": 86,
     "metadata": {},
     "output_type": "execute_result"
    }
   ],
   "source": [
    "useful_list_umf"
   ]
  },
  {
   "cell_type": "code",
   "execution_count": 87,
   "metadata": {},
   "outputs": [],
   "source": [
    "rule_lmf, useful_list_lmf = lowermf_rules(l, fanspeed_name_list , temp_interp_lmf, hum_interp_lmf, fanspeed_variant_lmf)"
   ]
  },
  {
   "cell_type": "code",
   "execution_count": null,
   "metadata": {},
   "outputs": [],
   "source": []
  },
  {
   "cell_type": "code",
   "execution_count": 88,
   "metadata": {},
   "outputs": [
    {
     "data": {
      "image/png": "[encoded data removed]",
      "text/plain": [
       "<Figure size 720x288 with 1 Axes>"
      ]
     },
     "metadata": {
      "needs_background": "light"
     },
     "output_type": "display_data"
    }
   ],
   "source": [
    "output_plot(x_fanspeed, rule_umf, rule_lmf, useful_list_umf, useful_list_lmf)\n",
    " "
   ]
  },
  {
   "cell_type": "code",
   "execution_count": 89,
   "metadata": {},
   "outputs": [],
   "source": [
    "max_rule_list, max_rule_lmf, max_rule_umf = aggregated_rules(rule_umf,rule_lmf)"
   ]
  },
  {
   "cell_type": "code",
   "execution_count": 90,
   "metadata": {},
   "outputs": [
    {
     "data": {
      "text/plain": [
       "array([0.    , 0.0002, 0.0004, ..., 0.    , 0.    , 0.    ])"
      ]
     },
     "execution_count": 90,
     "metadata": {},
     "output_type": "execute_result"
    }
   ],
   "source": [
    "max_rule_umf"
   ]
  },
  {
   "cell_type": "code",
   "execution_count": 91,
   "metadata": {},
   "outputs": [
    {
     "data": {
      "text/plain": [
       "array([0., 0., 0., ..., 0., 0., 0.])"
      ]
     },
     "execution_count": 91,
     "metadata": {},
     "output_type": "execute_result"
    }
   ],
   "source": [
    "max_rule_lmf"
   ]
  },
  {
   "cell_type": "code",
   "execution_count": 92,
   "metadata": {},
   "outputs": [
    {
     "name": "stdout",
     "output_type": "stream",
     "text": [
      "5.593165323168703\n"
     ]
    }
   ],
   "source": [
    "defuz = defuzzification(x_fanspeed, max_rule_list )\n",
    "print(defuz)"
   ]
  },
  {
   "cell_type": "code",
   "execution_count": 93,
   "metadata": {},
   "outputs": [
    {
     "data": {
      "image/png": "[encoded data removed]",
      "text/plain": [
       "<Figure size 576x216 with 1 Axes>"
      ]
     },
     "metadata": {
      "needs_background": "light"
     },
     "output_type": "display_data"
    }
   ],
   "source": [
    "centroid_plot(x_fanspeed, defuz, max_rule_list, fanspeed_variant_lmf, fanspeed_variant_umf, max_rule_umf, max_rule_lmf)"
   ]
  },
  {
   "cell_type": "code",
   "execution_count": null,
   "metadata": {},
   "outputs": [],
   "source": []
  },
  {
   "cell_type": "code",
   "execution_count": null,
   "metadata": {},
   "outputs": [],
   "source": []
  },
  {
   "cell_type": "code",
   "execution_count": null,
   "metadata": {},
   "outputs": [],
   "source": []
  }
 ],
 "metadata": {
  "kernelspec": {
   "display_name": "Python 3",
   "language": "python",
   "name": "python3"
  },
  "language_info": {
   "codemirror_mode": {
    "name": "ipython",
    "version": 3
   },
   "file_extension": ".py",
   "mimetype": "text/x-python",
   "name": "python",
   "nbconvert_exporter": "python",
   "pygments_lexer": "ipython3",
   "version": "3.6.8"
  }
 },
 "nbformat": 4,
 "nbformat_minor": 2
}
